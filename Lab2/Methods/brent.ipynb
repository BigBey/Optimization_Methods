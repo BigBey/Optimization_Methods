{
  "nbformat": 4,
  "nbformat_minor": 0,
  "metadata": {
    "colab": {
      "name": "brent.ipynb",
      "provenance": [],
      "collapsed_sections": []
    },
    "kernelspec": {
      "name": "python3",
      "display_name": "Python 3"
    }
  },
  "cells": [
    {
      "cell_type": "code",
      "metadata": {
        "id": "ahd3If_EH9AR"
      },
      "source": [
        "import math\n",
        "import operator\n",
        "import numpy as np\n",
        "import pandas as pd\n",
        "\n",
        "\n",
        "def calculateFunc(number, x):\n",
        "    if number == 1:\n",
        "        return -5 * x ** 5 + 4 * x  ** 4 - 12 * x ** 3 + 11 * x ** 2 - 2 * x + 1 \n",
        "    elif number == 2:\n",
        "        return -3 * x * np.sin(0.75 * x) + np.exp(-2 * x)\n",
        "    elif number == 3:\n",
        "        return np.exp(3 * x) + 5 * np.exp(-2 * x)\n",
        "\n",
        "\n",
        "def calculateDeriv(number, x):\n",
        "    if number == 1:\n",
        "        return -25 * x ** 4 + 16 * x ** 3 - 36 * x ** 2 + 22 * x - 2\n",
        "    elif number == 2:\n",
        "        return -2 * np.exp(-2 * x) - 3 * np.sin(0.75 * x) - 2.25 * x * np.cos(0.75 * x)\n",
        "    elif number == 3:\n",
        "        return np.exp(-2 * x) * (3 * np.exp(5 * x) - 10)\n",
        "\n",
        "\n",
        "def calculateX_hat(x1, x2, f1, f2):\n",
        "    a = (f2 - f1) / (x2 - x1)\n",
        "    b = f1 - x1 * a\n",
        "    return - (b / a)\n",
        "\n",
        "\n",
        "def brent(a, c, eps, func_index):\n",
        "    data = {'a' : [], 'c' : [], 'x' : [], 'w' : [], 'v' : [],\n",
        "            'u': [], 'f_x' : [], 'f_w' : [], 'f_v' : [], 'f_u' : []} \n",
        "    x = w = v = (a + c) / 2\n",
        "    f_x = f_w = f_v = calculateFunc(func_index, x)\n",
        "    f_x_deriv = f_w_deriv = f_v_deriv = calculateDeriv(func_index, x)\n",
        "    d = e = c - a\n",
        "    counter = 0\n",
        "    while True:\n",
        "        counter += 1\n",
        "        g, e = e, d     \n",
        "        u = None\n",
        "        if x != w and f_x_deriv != f_w_deriv:\n",
        "            u = calculateX_hat(x, w, f_x_deriv, f_w_deriv)\n",
        "            if u >= a + eps and u <= c - eps and abs(u - x) < g / 2:\n",
        "                u = u\n",
        "            else: \n",
        "                u = None\n",
        "        u2 = None\n",
        "        if x != v and f_x_deriv != f_v_deriv:\n",
        "            u2 = calculateX_hat(x, v, f_x_deriv, f_v_deriv)\n",
        "            if u2 >= a + eps and u2 <= c - eps and abs(u2 - x) < g / 2:\n",
        "                if u is not None and abs(u2 -x) < abs(u - x):\n",
        "                    u = u2\n",
        "        if u is None:\n",
        "            if f_x_deriv > 0:\n",
        "                u = (a + x) / 2\n",
        "            else:\n",
        "                u = (x + c) / 2\n",
        "        if abs(u - x) < eps:\n",
        "            u = x + np.sign(u - x) * eps\n",
        "        d = abs(x -u)\n",
        "        f_u = calculateFunc(func_index, u)\n",
        "        f_u_deriv = calculateDeriv(func_index, u)\n",
        "        writeRowBrent(data, a, c, x, w, v, u, f_x, f_w, f_v, f_u)\n",
        "        if f_u <= f_x:\n",
        "            if u >= x:\n",
        "                a = x\n",
        "            else:\n",
        "                c = x\n",
        "            v, w, x = w, x, u \n",
        "            f_v, f_w, f_x = f_w, f_x, f_u\n",
        "            f_v_deriv, f_w_deriv, f_x_deriv = f_w_deriv, f_x_deriv, f_u_deriv\n",
        "        else:\n",
        "            if u >= x:\n",
        "                c = u\n",
        "            else:\n",
        "                a = u\n",
        "            if f_u <= f_w or w == x:\n",
        "                v, w = w, u \n",
        "                f_v, f_w = f_w, f_u\n",
        "                f_v_deriv, f_w_deriv = f_w_deriv, f_u_deriv\n",
        "            elif f_u <= f_v or v == x or v == w:\n",
        "                v = u\n",
        "                f_v = f_u\n",
        "                f_v_deriv = f_u_deriv\n",
        "        if counter != 1:\n",
        "            if abs(prev_u - u) < eps:\n",
        "                break\n",
        "        prev_u = u\n",
        "    df = pd.DataFrame(data)\n",
        "    with pd.ExcelWriter(f'brent_{func_index}.xlsx') as writer:\n",
        "        df.to_excel(writer)\n",
        "    return counter, (c + a) / 2"
      ],
      "execution_count": 39,
      "outputs": []
    },
    {
      "cell_type": "code",
      "metadata": {
        "id": "gSFHF6jzcct3",
        "outputId": "8eeb00dd-c027-44bd-fc41-f43119154a5f",
        "colab": {
          "base_uri": "https://localhost:8080/",
          "height": 67
        }
      },
      "source": [
        "numbers = [1, 2, 3]\n",
        "intervals = [[-0.5, 0.5], [0, np.pi * 2], [0, 1]]\n",
        "\n",
        "for number, interval in zip(numbers, intervals):\n",
        "    counter, minimum = brent(interval[0], interval[1], 0.000001, number)\n",
        "    print(f\"Функция: {number}, min: {minimum}\")"
      ],
      "execution_count": 40,
      "outputs": [
        {
          "output_type": "stream",
          "text": [
            "Функция: 1, min: 0.11067132401450525\n",
            "Функция: 2, min: 2.705787451575547\n",
            "Функция: 3, min: 0.24079476763087992\n"
          ],
          "name": "stdout"
        }
      ]
    }
  ]
}