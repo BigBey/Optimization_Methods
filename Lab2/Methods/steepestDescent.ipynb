{
 "cells": [
  {
   "cell_type": "code",
   "execution_count": 54,
   "metadata": {
    "id": "ChFtlx6YQb2W"
   },
   "outputs": [],
   "source": [
    "import math\n",
    "import operator\n",
    "import numpy as np\n",
    "import pandas as pd\n",
    "\n",
    "\n",
    "def f1(x):\n",
    "    return 100 * (x[1] - x[0] ** 2) ** 2 + (1 - x[0]) ** 2\n",
    "\n",
    "\n",
    "def f1_deriv(x, index):\n",
    "    return {\n",
    "        1: 2 * (200 * x[0] ** 3 - 200 * x[0] * x[1] + x[0] - 1),\n",
    "        2: 200 * (x[1] - x[0] ** 2)\n",
    "    }.get(index)\n",
    "\n",
    "\n",
    "def f2(x):\n",
    "    return (x[1] - x[0] ** 2) ** 2 + (1 - x[0]) ** 2\n",
    "\n",
    "\n",
    "def f2_deriv(x, index):\n",
    "    return {\n",
    "        1: 2 * (2 * x[0] ** 3 - 2 * x[0] * x[1] + x[0] - 1),\n",
    "        2: 2 * (x[1] - x[0] ** 2)\n",
    "    }.get(index)\n",
    "\n",
    "\n",
    "def f3(x):\n",
    "    return (1.5 - x[0] * (1 - x[1])) ** 2 + (2.25 - x[0] * (1 - x[1] ** 2)) ** 2 + (2.625 - x[0] * (1 - x[1] ** 3)) ** 2\n",
    "\n",
    "\n",
    "def f3_deriv(x, index):\n",
    "    return {\n",
    "        1: 2 * x[0] * (\n",
    "                x[1] ** 6 + x[1] ** 4 - 2 * x[1] ** 3 - x[1] ** 2 - 2 * x[1] + 3) + 5.25 * x[1] ** 3 + 4.5 * x[1] ** 2 + 3 * x[1] - 12.75,\n",
    "        2: x[0] * (x[0] * (6 * x[1] ** 5 + 4 * x[1] ** 3 - 6 * x[1] ** 2 - 2 * x[1] - 2) + 15.75 * x[1] ** 2 + 9 * x[1] + 3)\n",
    "    }.get(index)\n",
    "\n",
    "\n",
    "def f4(x):\n",
    "    return (x[0] + x[1]) ** 2 + 5 * (x[2] - x[3]) ** 2 + (x[1] - 2 * x[2]) ** 4 + 10 * (x[0] - x[3]) ** 4\n",
    "\n",
    "\n",
    "def f4_deriv(x, index):\n",
    "    return {\n",
    "        1: 2 * (20 * (x[0] - x[3]) ** 3 + x[0] + x[1]),\n",
    "        2: 2 * (x[0] + 2 * (x[1] - 2 * x[2]) ** 3 + x[1]),\n",
    "        3: 10 * (x[2] - x[3]) - 8 * (x[1] - 2 * x[2]) ** 3,\n",
    "        4: 10 * (-4 * (x[0] - x[3]) ** 3 + x[3] - x[2])\n",
    "    }.get(index)\n",
    "\n",
    "\n",
    "def getFunc(index):\n",
    "    return {1: f1,\n",
    "            2: f2,\n",
    "            3: f3,\n",
    "            4: f4\n",
    "            }.get(index)\n",
    "\n",
    "\n",
    "def getFuncDeriv(index):\n",
    "    return {1: f1_deriv,\n",
    "            2: f2_deriv,\n",
    "            3: f3_deriv,\n",
    "            4: f4_deriv\n",
    "            }.get(index)\n",
    "\n",
    "def getFuncVariableNumber(index):\n",
    "    return {1: 2,\n",
    "            2: 2,\n",
    "            3: 2,\n",
    "            4: 4}.get(index)"
   ]
  },
  {
   "cell_type": "code",
   "execution_count": 55,
   "metadata": {
    "id": "p03SuXZwWohi"
   },
   "outputs": [],
   "source": [
    "def goldenRatio(a, b, func, eps):\n",
    "    PHI = (1 + np.sqrt(5)) / 2\n",
    "    len_prev = 0\n",
    "    x1 = b - (b - a) / PHI\n",
    "    x2 = a + (b - a) / PHI\n",
    "    f1 = func(x1)\n",
    "    f2 = func(x2)\n",
    "    counter = 0\n",
    "    while abs(b - a) > eps: \n",
    "        counter += 1\n",
    "        len_prev = b - a\n",
    "        if f1 < f2:\n",
    "            b = x2\n",
    "            f2, x2 = f1, x1\n",
    "            x1 = b - (b - a) / PHI\n",
    "            f1 = func(x1)\n",
    "        else:\n",
    "            a = x1\n",
    "            f1, x1 = f2, x2\n",
    "            x2 = a + (b - a) / PHI\n",
    "            f2 = func(x2)\n",
    "    return (a + b) / 2"
   ]
  },
  {
   "cell_type": "code",
   "execution_count": 56,
   "metadata": {
    "id": "xL4N6yswQ6u_"
   },
   "outputs": [],
   "source": [
    "def steepestDescent(func_index, eps):\n",
    "    func = getFunc(func_index)\n",
    "    func_deriv = getFuncDeriv(func_index)\n",
    "    variable_number = getFuncVariableNumber(func_index)\n",
    "    x = [0 for i in range(variable_number)]\n",
    "    points = [(x, func(x))]\n",
    "    while True:\n",
    "      grad = [func_deriv(x, i) for i in range(1, variable_number + 1)]\n",
    "      new_x_func = lambda step: list(map(operator.sub, x, [step * grad[i] for i in range(len(grad))]))\n",
    "      step_func = lambda step: func(new_x_func(step))\n",
    "      result_step = goldenRatio(0, 10, step_func, eps)\n",
    "      x = new_x_func(result_step)\n",
    "      points.append((x, func(x)))\n",
    "      if abs(points[-1][1] - points[-2][1]) < eps:\n",
    "        break;\n",
    "    print(points[-1])"
   ]
  },
  {
   "cell_type": "code",
   "execution_count": 57,
   "metadata": {
    "colab": {
     "base_uri": "https://localhost:8080/",
     "height": 84
    },
    "id": "EfKwcbbwawrl",
    "outputId": "eb4911ca-be9a-4bbd-ea24-f20b00e29c81"
   },
   "outputs": [
    {
     "name": "stdout",
     "output_type": "stream",
     "text": [
      "([0.999369497486081, 0.9987362381883463], 3.9852839178054377e-07)\n",
      "([0.9999427194174707, 0.999885441848697], 3.281065134966883e-09)\n",
      "([2.999776690682426, 0.4999446214009225], 7.983748205856503e-09)\n",
      "([0.0, 0.0, 0.0, 0.0], 0.0)\n"
     ]
    }
   ],
   "source": [
    "for i in range (1, 5):\n",
    "    steepestDescent(i, 10 ** -9)"
   ]
  }
 ],
 "metadata": {
  "colab": {
   "collapsed_sections": [],
   "name": "steepestDescent.ipynb",
   "provenance": []
  },
  "kernelspec": {
   "display_name": "Python 3",
   "language": "python",
   "name": "python3"
  },
  "language_info": {
   "codemirror_mode": {
    "name": "ipython",
    "version": 3
   },
   "file_extension": ".py",
   "mimetype": "text/x-python",
   "name": "python",
   "nbconvert_exporter": "python",
   "pygments_lexer": "ipython3",
   "version": "3.7.1"
  }
 },
 "nbformat": 4,
 "nbformat_minor": 1
}
