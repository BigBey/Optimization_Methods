{
  "nbformat": 4,
  "nbformat_minor": 0,
  "metadata": {
    "colab": {
      "name": "steepestDescent.ipynb",
      "provenance": [],
      "collapsed_sections": []
    },
    "kernelspec": {
      "name": "python3",
      "display_name": "Python 3"
    }
  },
  "cells": [
    {
      "cell_type": "code",
      "metadata": {
        "id": "ChFtlx6YQb2W"
      },
      "source": [
        "import math\n",
        "import operator\n",
        "import numpy as np\n",
        "import pandas as pd\n",
        "\n",
        "\n",
        "def f1(x):\n",
        "    return 100 * (x[1] - x[0] ** 2) ** 2 + (1 - x[0]) ** 2\n",
        "\n",
        "\n",
        "def f1_deriv(x, index):\n",
        "    return {\n",
        "        1: 2 * (200 * x[0] ** 3 - 200 * x[0] * x[1] + x[0] - 1),\n",
        "        2: 200 * (x[1] - x[0] ** 2)\n",
        "    }.get(index)\n",
        "\n",
        "\n",
        "def f2(x):\n",
        "    return (x[1] - x[0] ** 2) ** 2 + (1 - x[0]) ** 2\n",
        "\n",
        "\n",
        "def f2_deriv(x, index):\n",
        "    return {\n",
        "        1: 2 * (2 * x[0] ** 3 - 2 * x[0] * x[1] + x[0] - 1),\n",
        "        2: 2 * (x[1] - x[0] ** 2)\n",
        "    }.get(index)\n",
        "\n",
        "\n",
        "def f3(x):\n",
        "    return (1.5 - x[0] * (1 - x[1])) ** 2 + (2.25 - x[0] * (1 - x[1] ** 2)) ** 2 + (2.625 - x[0] * (1 - x[1] ** 3)) ** 2\n",
        "\n",
        "\n",
        "def f3_deriv(x, index):\n",
        "    return {\n",
        "        1: 2 * x[0] * (\n",
        "                x[1] ** 6 + x[1] ** 4 - 2 * x[1] ** 3 - x[1] ** 2 - 2 * x[1] + 3) + 5.25 * x[1] ** 3 + 4.5 * x[1] ** 2 + 3 * x[1] - 12.75,\n",
        "        2: x[0] * (x[0] * (6 * x[1] ** 5 + 4 * x[1] ** 3 - 6 * x[1] ** 2 - 2 * x[1] - 2) + 15.75 * x[1] ** 2 + 9 * x[1] + 3)\n",
        "    }.get(index)\n",
        "\n",
        "\n",
        "def f4(x):\n",
        "    return (x[0] + x[1]) ** 2 + 5 * (x[2] - x[3]) ** 2 + (x[1] - 2 * x[2]) ** 4 + 10 * (x[0] - x[3]) ** 4\n",
        "\n",
        "\n",
        "def f4_deriv(x, index):\n",
        "    return {\n",
        "        1: 2 * (20 * (x[0] - x[3]) ** 3 + x[0] + x[1]),\n",
        "        2: 2 * (x[0] + 2 * (x[1] - 2 * x[2]) ** 3 + x[1]),\n",
        "        3: 10 * (x[2] - x[3]) - 8 * (x[1] - 2 * x[2]) ** 3,\n",
        "        4: 10 * (-4 * (x[0] - x[3]) ** 3 + x[3] - x[2])\n",
        "    }.get(index)\n",
        "\n",
        "\n",
        "def getFunc(index):\n",
        "    return {1: f1,\n",
        "            2: f2,\n",
        "            3: f3,\n",
        "            4: f4\n",
        "            }.get(index)\n",
        "\n",
        "\n",
        "def getFuncDeriv(index):\n",
        "    return {1: f1_deriv,\n",
        "            2: f2_deriv,\n",
        "            3: f3_deriv,\n",
        "            4: f4_deriv\n",
        "            }.get(index)\n",
        "\n",
        "def getFuncVariableNumber(index):\n",
        "    return {1: 2,\n",
        "            2: 2,\n",
        "            3: 2,\n",
        "            4: 4}.get(index)"
      ],
      "execution_count": 47,
      "outputs": []
    },
    {
      "cell_type": "code",
      "metadata": {
        "id": "p03SuXZwWohi"
      },
      "source": [
        "def goldenRatio(a, b, func, eps):\n",
        "    PHI = (1 + np.sqrt(5)) / 2\n",
        "    len_prev = 0\n",
        "    x1 = b - (b - a) / PHI\n",
        "    x2 = a + (b - a) / PHI\n",
        "    f1 = func(x1)\n",
        "    f2 = func(x2)\n",
        "    counter = 0\n",
        "    while abs(b - a) > eps: \n",
        "        counter += 1\n",
        "        len_prev = b - a\n",
        "        if f1 < f2:\n",
        "            b = x2\n",
        "            f2, x2 = f1, x1\n",
        "            x1 = b - (b - a) / PHI\n",
        "            f1 = func(x1)\n",
        "        else:\n",
        "            a = x1\n",
        "            f1, x1 = f2, x2\n",
        "            x2 = a + (b - a) / PHI\n",
        "            f2 = func(x2)\n",
        "    return (a + b) / 2"
      ],
      "execution_count": 48,
      "outputs": []
    },
    {
      "cell_type": "code",
      "metadata": {
        "id": "xL4N6yswQ6u_"
      },
      "source": [
        "def steepestDescent(func_index, eps):\n",
        "    func = getFunc(func_index)\n",
        "    func_deriv = getFuncDeriv(func_index)\n",
        "    variable_number = getFuncVariableNumber(func_index)\n",
        "    x = [0 for i in range(variable_number)]\n",
        "    points = [(x, func(x))]\n",
        "    while True:\n",
        "      grad = [func_deriv(x, i) for i in range(1, variable_number + 1)]\n",
        "      new_x_func = lambda step: list(map(operator.sub, x, [step * grad[i] for i in range(len(grad))]))\n",
        "      step_func = lambda step: func(new_x_func(step))\n",
        "      result_step = goldenRatio(0, 10, step_func, eps)\n",
        "      x = new_x_func(result_step)\n",
        "      points.append((x, func(x)))\n",
        "      if abs(points[-1][1] - points[-2][1]) < eps:\n",
        "        break;\n",
        "    print(points[-1])"
      ],
      "execution_count": 49,
      "outputs": []
    },
    {
      "cell_type": "code",
      "metadata": {
        "id": "EfKwcbbwawrl",
        "outputId": "61747bde-6f7b-4902-878c-967625d35654",
        "colab": {
          "base_uri": "https://localhost:8080/",
          "height": 84
        }
      },
      "source": [
        "for i in range (1, 5):\n",
        "    steepestDescent(i, 10 ** -9)"
      ],
      "execution_count": 50,
      "outputs": [
        {
          "output_type": "stream",
          "text": [
            "([0.999369497486081, 0.9987362381883463], 3.9852839178054377e-07)\n",
            "([0.9999427194174707, 0.999885441848697], 3.281065134966883e-09)\n",
            "([2.999776690682426, 0.4999446214009225], 7.983748205856503e-09)\n",
            "([0.0, 0.0, 0.0, 0.0], 0.0)\n"
          ],
          "name": "stdout"
        }
      ]
    },
    {
      "cell_type": "code",
      "metadata": {
        "id": "w6UxXy3fhgBX"
      },
      "source": [
        "def calculateX_hat(x1, x2, f1, f2):\n",
        "    a = (f2 - f1) / (x2 - x1)\n",
        "    b = f1 - x1 * a\n",
        "    return - (b / a)"
      ],
      "execution_count": 51,
      "outputs": []
    },
    {
      "cell_type": "code",
      "metadata": {
        "id": "zUPbu_iARde7"
      },
      "source": [
        "def writeRowBrent(data, a, c, x, w, v, u, f_x, f_w, f_v, f_u):\n",
        "    data['a'].append(a)\n",
        "    data['c'].append(c)\n",
        "    data['x'].append(x)\n",
        "    data['w'].append(w)\n",
        "    data['v'].append(v)\n",
        "    data['u'].append(u)\n",
        "    data['f_x'].append(f_x)\n",
        "    data['f_w'].append(f_w)\n",
        "    data['f_v'].append(f_v)\n",
        "    data['f_u'].append(f_u)\n",
        "\n",
        "\n",
        "def uMerge(a, c, x, w, v, g, eps, func_index):\n",
        "    func = getFunc(func_index)\n",
        "    func_deriv = getFuncDeriv(func_index)\n",
        "    variable_number = getFuncVariableNumber(func_index)\n",
        "    f_x_deriv = f_w_deriv = f_v_deriv = np.array([func_deriv(x, i) for i in range(1, variable_number + 1)])    \n",
        "    u1 = None\n",
        "    if (x != w).any() and (f_x_deriv != f_w_deriv).any():\n",
        "        u1 = calculateX_hat(x, w, f_x_deriv, f_w_deriv)\n",
        "        for i in range(variable_number):\n",
        "            if u1[i] >= a[i] + eps and u1[i] <= c[i] - eps and abs(u1[i] - x[i]) < g[i] / 2:\n",
        "                u1[i] = u1[i]\n",
        "            else: \n",
        "                u1[i] = None\n",
        "    u2 = None\n",
        "    if (x != v).any() and (f_x_deriv != f_v_deriv).any():\n",
        "        u2 = calculateX_hat(x, v, f_x_deriv, f_v_deriv)\n",
        "        for i in range(variable_number):\n",
        "            if u2[i] >= a[i] + eps and u2[i] <= c[i] - eps and abs(u2[i] - x[i]) < g[i] / 2:\n",
        "                u2[i] = u2[i]\n",
        "            else:\n",
        "                u2[i] = None\n",
        "    u = u1 if u1 is not None else np.array([0 for i in range(variable_number)])\n",
        "    for i in range(variable_number):\n",
        "        if u1 is not None and u2 is not None:\n",
        "            if u[i] is not None and u2[i] is not None:\n",
        "                if abs(u[i] - x[i]) > abs(u2[i] - x[i]):\n",
        "                    u[i] = u2[i]\n",
        "            else:\n",
        "                if u[i] is None and u2[i] is not None:\n",
        "                    u[i] = u2[i]\n",
        "            if u[i] is None:\n",
        "                if f_x_deriv[i] > 0:\n",
        "                    u[i] = (a[i] + x[i]) / 2\n",
        "                else:\n",
        "                    u[i] = (x[i] + c[i]) / 2\n",
        "        else:\n",
        "            if f_x_deriv[i] > 0:\n",
        "                u[i] = (a[i] + x[i]) / 2\n",
        "            else:\n",
        "                u[i] = (x[i] + c[i]) / 2            \n",
        "        if abs(u[i] - x[i]) < eps:\n",
        "            u[i] = x[i] + np.sign(u[i] - x[i]) * eps\n",
        "    return u\n",
        "\n",
        "\n",
        "def brent(a, c, eps, func_index):\n",
        "    func = getFunc(func_index)\n",
        "    func_deriv = getFuncDeriv(func_index)\n",
        "    variable_number = getFuncVariableNumber(func_index)\n",
        "    data = {'a' : [], 'c' : [], 'x' : [], 'w' : [], 'v' : [],\n",
        "            'u': [], 'f_x' : [], 'f_w' : [], 'f_v' : [], 'f_u' : []} \n",
        "    x = w = v = (a + c) / 2\n",
        "    f_x = f_w = f_v = func(x)\n",
        "    f_x_deriv = f_w_deriv = f_v_deriv = [func_deriv(x, i) for i in range(1, variable_number + 1)]\n",
        "    d = e = c - a\n",
        "    counter = 0\n",
        "    while True:\n",
        "        counter += 1\n",
        "        g, e = e, d     \n",
        "        u = uMerge(a, c, x, w, v, g, eps, func_index)\n",
        "        d = np.array([abs(x[i] - u[i]) for i in range(variable_number)])\n",
        "        f_u = func(u)\n",
        "        f_u_deriv = [func_deriv(u, i) for i in range(1, variable_number + 1)]\n",
        "        writeRowBrent(data, a, c, x, w, v, u, f_x, f_w, f_v, f_u)\n",
        "        if f_u <= f_x:\n",
        "            for i in range(variable_number):\n",
        "                if u[i] >= x[i]:\n",
        "                    a[i] = x[i]\n",
        "                else:\n",
        "                    c[i] = x[i]\n",
        "            v, w, x = w, x, u \n",
        "            f_v, f_w, f_x = f_w, f_x, f_u\n",
        "            f_v_deriv, f_w_deriv, f_x_deriv = f_w_deriv, f_x_deriv, f_u_deriv\n",
        "        else:\n",
        "            for i in range(variable_number):\n",
        "                if u[i] >= x[i]:\n",
        "                    c[i] = u[i]\n",
        "                else:\n",
        "                    a[i] = u[i]\n",
        "                if f_u <= f_w or (w == x).all():\n",
        "                    v, w = w, u \n",
        "                    f_v, f_w = f_w, f_u\n",
        "                    f_v_deriv, f_w_deriv = f_w_deriv, f_u_deriv\n",
        "                elif f_u <= f_v or (v == x).all() or (v == w).all():\n",
        "                    v = u\n",
        "                    f_v = f_u\n",
        "                    f_v_deriv = f_u_deriv\n",
        "        if counter != 1:\n",
        "            out_condition = np.array([abs(prev_u[i] - u[i]) for i in range(variable_number)])\n",
        "            print(a, c)\n",
        "            if (out_condition < eps).all():\n",
        "                break\n",
        "        prev_u = u\n",
        "    df = pd.DataFrame(data)\n",
        "    with pd.ExcelWriter(f'brent_{func_index}.xlsx') as writer:\n",
        "        df.to_excel(writer)\n",
        "    return counter, (c + a) / 2"
      ],
      "execution_count": 52,
      "outputs": []
    },
    {
      "cell_type": "code",
      "metadata": {
        "id": "x-qjucsA-WWs",
        "outputId": "aab6b6c2-328b-473a-9b83-54461dcc4b22",
        "colab": {
          "base_uri": "https://localhost:8080/",
          "height": 84
        }
      },
      "source": [
        "print(brent(np.array([-5, -5, -5, -5]), np.array([5, 5, 5 ,5]), 10 ** -5, 4))"
      ],
      "execution_count": 53,
      "outputs": [
        {
          "output_type": "stream",
          "text": [
            "[-5 -5 -5 -5] [1 1 1 1]\n",
            "[0 0 0 0] [1 1 1 1]\n",
            "[0 0 0 0] [1 1 1 1]\n",
            "(4, array([0.5, 0.5, 0.5, 0.5]))\n"
          ],
          "name": "stdout"
        }
      ]
    }
  ]
}